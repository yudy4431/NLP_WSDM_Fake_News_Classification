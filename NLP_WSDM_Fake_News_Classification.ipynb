{
  "nbformat": 4,
  "nbformat_minor": 0,
  "metadata": {
    "colab": {
      "name": "NLP_WSDM_Fake_News_Classification.ipynb",
      "provenance": [],
      "authorship_tag": "ABX9TyP3PX51V5/lBSiT/X8+2YMo",
      "include_colab_link": true
    },
    "kernelspec": {
      "name": "python3",
      "display_name": "Python 3"
    }
  },
  "cells": [
    {
      "cell_type": "markdown",
      "metadata": {
        "id": "view-in-github",
        "colab_type": "text"
      },
      "source": [
        "<a href=\"https://colab.research.google.com/github/yudy4431/NLP_WSDM_Fake_News_Classification/blob/main/NLP_WSDM_Fake_News_Classification.ipynb\" target=\"_parent\"><img src=\"https://colab.research.google.com/assets/colab-badge.svg\" alt=\"Open In Colab\"/></a>"
      ]
    },
    {
      "cell_type": "code",
      "metadata": {
        "id": "hBvuoHgsimjV"
      },
      "source": [
        "# It's a competiton on Kaggle which attempts to classify fake news.\n",
        "# The code and idea in this notebook are refer to this article:\"https://reurl.cc/ZQGeQQ\"."
      ],
      "execution_count": 2,
      "outputs": []
    },
    {
      "cell_type": "code",
      "metadata": {
        "colab": {
          "base_uri": "https://localhost:8080/"
        },
        "id": "b6BFPMSbbDYF",
        "outputId": "6fc3ab4c-8edf-48a7-93a6-fdee291dcd03"
      },
      "source": [
        "from google.colab import drive\n",
        "# Linked to google drive\n",
        "drive.mount('/content/gdrive')"
      ],
      "execution_count": 3,
      "outputs": [
        {
          "output_type": "stream",
          "text": [
            "Mounted at /content/gdrive\n"
          ],
          "name": "stdout"
        }
      ]
    },
    {
      "cell_type": "code",
      "metadata": {
        "colab": {
          "base_uri": "https://localhost:8080/",
          "height": 186
        },
        "id": "tYJiY1iCbp4B",
        "outputId": "cfab9275-a0db-48d6-b198-b50512325a73"
      },
      "source": [
        "import pandas as pd\n",
        "\n",
        "train_path = \"/content/gdrive/MyDrive/Colab_Notebooks/WSDM_Fake_News_Classification/train.csv\"\n",
        "test_path = \"/content/gdrive/MyDrive/Colab_Notebooks/WSDM_Fake_News_Classification/test.csv\"\n",
        "\n",
        "train = pd.read_csv(train_path, index_col=0)\n",
        "train.head(3)\n",
        "\n",
        "# Because english titles were translated from chinese, those couldn't express completed meanings,\n",
        "# I decide to drop \"title1_en\" and \"title2_en\".\n",
        "# The English titles are machine translated from the related Chinese titles. \n",
        "# This may help participants from all background to get better understanding of the datasets. \n",
        "# Participants are highly recommended to use the Chinese version titles to finish the task.\n",
        "\n",
        "cols = ['title1_zh', 'title2_zh', 'label']\n",
        "train = train.loc[:, cols]\n",
        "\n",
        "print(\"After drops english title cols.\")\n",
        "train.head(3)"
      ],
      "execution_count": 4,
      "outputs": [
        {
          "output_type": "stream",
          "text": [
            "After drops english title cols.\n"
          ],
          "name": "stdout"
        },
        {
          "output_type": "execute_result",
          "data": {
            "text/html": [
              "<div>\n",
              "<style scoped>\n",
              "    .dataframe tbody tr th:only-of-type {\n",
              "        vertical-align: middle;\n",
              "    }\n",
              "\n",
              "    .dataframe tbody tr th {\n",
              "        vertical-align: top;\n",
              "    }\n",
              "\n",
              "    .dataframe thead th {\n",
              "        text-align: right;\n",
              "    }\n",
              "</style>\n",
              "<table border=\"1\" class=\"dataframe\">\n",
              "  <thead>\n",
              "    <tr style=\"text-align: right;\">\n",
              "      <th></th>\n",
              "      <th>title1_zh</th>\n",
              "      <th>title2_zh</th>\n",
              "      <th>label</th>\n",
              "    </tr>\n",
              "    <tr>\n",
              "      <th>id</th>\n",
              "      <th></th>\n",
              "      <th></th>\n",
              "      <th></th>\n",
              "    </tr>\n",
              "  </thead>\n",
              "  <tbody>\n",
              "    <tr>\n",
              "      <th>0</th>\n",
              "      <td>2017养老保险又新增两项，农村老人人人可申领，你领到了吗</td>\n",
              "      <td>警方辟谣“鸟巢大会每人领5万” 仍有老人坚持进京</td>\n",
              "      <td>unrelated</td>\n",
              "    </tr>\n",
              "    <tr>\n",
              "      <th>3</th>\n",
              "      <td>\"你不来深圳，早晚你儿子也要来\"，不出10年深圳人均GDP将超香港</td>\n",
              "      <td>深圳GDP首超香港？深圳统计局辟谣：只是差距在缩小</td>\n",
              "      <td>unrelated</td>\n",
              "    </tr>\n",
              "    <tr>\n",
              "      <th>1</th>\n",
              "      <td>\"你不来深圳，早晚你儿子也要来\"，不出10年深圳人均GDP将超香港</td>\n",
              "      <td>GDP首超香港？深圳澄清：还差一点点……</td>\n",
              "      <td>unrelated</td>\n",
              "    </tr>\n",
              "  </tbody>\n",
              "</table>\n",
              "</div>"
            ],
            "text/plain": [
              "                            title1_zh                  title2_zh      label\n",
              "id                                                                         \n",
              "0       2017养老保险又新增两项，农村老人人人可申领，你领到了吗   警方辟谣“鸟巢大会每人领5万” 仍有老人坚持进京  unrelated\n",
              "3   \"你不来深圳，早晚你儿子也要来\"，不出10年深圳人均GDP将超香港  深圳GDP首超香港？深圳统计局辟谣：只是差距在缩小  unrelated\n",
              "1   \"你不来深圳，早晚你儿子也要来\"，不出10年深圳人均GDP将超香港       GDP首超香港？深圳澄清：还差一点点……  unrelated"
            ]
          },
          "metadata": {
            "tags": []
          },
          "execution_count": 4
        }
      ]
    },
    {
      "cell_type": "code",
      "metadata": {
        "id": "W6FUUth6d-S5"
      },
      "source": [
        "# Word segmentation processing.\n",
        "# Splits words by meanings.\n",
        "# Use Jieba to split the title by words' meaning.\n",
        "import jieba.posseg as pseg\n",
        "\n",
        "def jieba_tokenizer(text):\n",
        "  \"\"\"\n",
        "  Input(string): A sequence of title.\n",
        "  Output(string): A string after processing by Jieba and drop the flag. \n",
        "  \"\"\"\n",
        "  words = pseg.cut(text)\n",
        "  return ' '.join([word for word, flag in words if flag != 'x'])"
      ],
      "execution_count": 5,
      "outputs": []
    },
    {
      "cell_type": "code",
      "metadata": {
        "id": "BecYOqAqezjO"
      },
      "source": [
        "# Make new tokenized cols by title1 and title2 and apply function jieba_tokenizer.\n",
        "# Tips: If it runs \"AttributeError: 'float' object has no attribute 'decode'\",\n",
        "#       try to astype the cols to str type.\n",
        "train['title1_tokenized'] = train.loc[:, 'title1_zh'].astype(str).apply(jieba_tokenizer)\n",
        "train['title2_tokenized'] = train.loc[:, 'title2_zh'].astype(str).apply(jieba_tokenizer)"
      ],
      "execution_count": null,
      "outputs": []
    },
    {
      "cell_type": "code",
      "metadata": {
        "colab": {
          "base_uri": "https://localhost:8080/",
          "height": 228
        },
        "id": "BpO_nIAzfnDn",
        "outputId": "d4f16779-d64b-4696-b489-d7327a4067a7"
      },
      "source": [
        "train.iloc[:, [0, 3]].head()"
      ],
      "execution_count": 8,
      "outputs": [
        {
          "output_type": "execute_result",
          "data": {
            "text/html": [
              "<div>\n",
              "<style scoped>\n",
              "    .dataframe tbody tr th:only-of-type {\n",
              "        vertical-align: middle;\n",
              "    }\n",
              "\n",
              "    .dataframe tbody tr th {\n",
              "        vertical-align: top;\n",
              "    }\n",
              "\n",
              "    .dataframe thead th {\n",
              "        text-align: right;\n",
              "    }\n",
              "</style>\n",
              "<table border=\"1\" class=\"dataframe\">\n",
              "  <thead>\n",
              "    <tr style=\"text-align: right;\">\n",
              "      <th></th>\n",
              "      <th>title1_zh</th>\n",
              "      <th>title1_tokenized</th>\n",
              "    </tr>\n",
              "    <tr>\n",
              "      <th>id</th>\n",
              "      <th></th>\n",
              "      <th></th>\n",
              "    </tr>\n",
              "  </thead>\n",
              "  <tbody>\n",
              "    <tr>\n",
              "      <th>0</th>\n",
              "      <td>2017养老保险又新增两项，农村老人人人可申领，你领到了吗</td>\n",
              "      <td>2017 养老保险 又 新增 两项 农村 老人 人人 可 申领 你 领到 了 吗</td>\n",
              "    </tr>\n",
              "    <tr>\n",
              "      <th>3</th>\n",
              "      <td>\"你不来深圳，早晚你儿子也要来\"，不出10年深圳人均GDP将超香港</td>\n",
              "      <td>你 不 来 深圳 早晚 你 儿子 也 要 来 不出 10 年 深圳 人均 GDP 将 超 香港</td>\n",
              "    </tr>\n",
              "    <tr>\n",
              "      <th>1</th>\n",
              "      <td>\"你不来深圳，早晚你儿子也要来\"，不出10年深圳人均GDP将超香港</td>\n",
              "      <td>你 不 来 深圳 早晚 你 儿子 也 要 来 不出 10 年 深圳 人均 GDP 将 超 香港</td>\n",
              "    </tr>\n",
              "    <tr>\n",
              "      <th>2</th>\n",
              "      <td>\"你不来深圳，早晚你儿子也要来\"，不出10年深圳人均GDP将超香港</td>\n",
              "      <td>你 不 来 深圳 早晚 你 儿子 也 要 来 不出 10 年 深圳 人均 GDP 将 超 香港</td>\n",
              "    </tr>\n",
              "    <tr>\n",
              "      <th>9</th>\n",
              "      <td>\"用大蒜鉴别地沟油的方法,怎么鉴别地沟油</td>\n",
              "      <td>用 大蒜 鉴别 地沟油 的 方法 怎么 鉴别 地沟油</td>\n",
              "    </tr>\n",
              "  </tbody>\n",
              "</table>\n",
              "</div>"
            ],
            "text/plain": [
              "                            title1_zh                                 title1_tokenized\n",
              "id                                                                                    \n",
              "0       2017养老保险又新增两项，农村老人人人可申领，你领到了吗         2017 养老保险 又 新增 两项 农村 老人 人人 可 申领 你 领到 了 吗\n",
              "3   \"你不来深圳，早晚你儿子也要来\"，不出10年深圳人均GDP将超香港  你 不 来 深圳 早晚 你 儿子 也 要 来 不出 10 年 深圳 人均 GDP 将 超 香港\n",
              "1   \"你不来深圳，早晚你儿子也要来\"，不出10年深圳人均GDP将超香港  你 不 来 深圳 早晚 你 儿子 也 要 来 不出 10 年 深圳 人均 GDP 将 超 香港\n",
              "2   \"你不来深圳，早晚你儿子也要来\"，不出10年深圳人均GDP将超香港  你 不 来 深圳 早晚 你 儿子 也 要 来 不出 10 年 深圳 人均 GDP 将 超 香港\n",
              "9                \"用大蒜鉴别地沟油的方法,怎么鉴别地沟油                       用 大蒜 鉴别 地沟油 的 方法 怎么 鉴别 地沟油"
            ]
          },
          "metadata": {
            "tags": []
          },
          "execution_count": 8
        }
      ]
    },
    {
      "cell_type": "code",
      "metadata": {
        "colab": {
          "base_uri": "https://localhost:8080/",
          "height": 228
        },
        "id": "tKFJsJ2kfoJT",
        "outputId": "b78f19cf-00f1-4162-a6fb-bd1ff95d9466"
      },
      "source": [
        "train.iloc[:, [1, 4]].head()"
      ],
      "execution_count": 9,
      "outputs": [
        {
          "output_type": "execute_result",
          "data": {
            "text/html": [
              "<div>\n",
              "<style scoped>\n",
              "    .dataframe tbody tr th:only-of-type {\n",
              "        vertical-align: middle;\n",
              "    }\n",
              "\n",
              "    .dataframe tbody tr th {\n",
              "        vertical-align: top;\n",
              "    }\n",
              "\n",
              "    .dataframe thead th {\n",
              "        text-align: right;\n",
              "    }\n",
              "</style>\n",
              "<table border=\"1\" class=\"dataframe\">\n",
              "  <thead>\n",
              "    <tr style=\"text-align: right;\">\n",
              "      <th></th>\n",
              "      <th>title2_zh</th>\n",
              "      <th>title2_tokenized</th>\n",
              "    </tr>\n",
              "    <tr>\n",
              "      <th>id</th>\n",
              "      <th></th>\n",
              "      <th></th>\n",
              "    </tr>\n",
              "  </thead>\n",
              "  <tbody>\n",
              "    <tr>\n",
              "      <th>0</th>\n",
              "      <td>警方辟谣“鸟巢大会每人领5万” 仍有老人坚持进京</td>\n",
              "      <td>警方 辟谣 鸟巢 大会 每人 领 5 万 仍 有 老人 坚持 进京</td>\n",
              "    </tr>\n",
              "    <tr>\n",
              "      <th>3</th>\n",
              "      <td>深圳GDP首超香港？深圳统计局辟谣：只是差距在缩小</td>\n",
              "      <td>深圳 GDP 首 超 香港 深圳 统计局 辟谣 只是 差距 在 缩小</td>\n",
              "    </tr>\n",
              "    <tr>\n",
              "      <th>1</th>\n",
              "      <td>GDP首超香港？深圳澄清：还差一点点……</td>\n",
              "      <td>GDP 首 超 香港 深圳 澄清 还 差 一点点</td>\n",
              "    </tr>\n",
              "    <tr>\n",
              "      <th>2</th>\n",
              "      <td>去年深圳GDP首超香港？深圳统计局辟谣：还差611亿</td>\n",
              "      <td>去年 深圳 GDP 首 超 香港 深圳 统计局 辟谣 还 差 611 亿</td>\n",
              "    </tr>\n",
              "    <tr>\n",
              "      <th>9</th>\n",
              "      <td>吃了30年食用油才知道，一片大蒜轻松鉴别地沟油</td>\n",
              "      <td>吃 了 30 年 食用油 才 知道 一片 大蒜 轻松 鉴别 地沟油</td>\n",
              "    </tr>\n",
              "  </tbody>\n",
              "</table>\n",
              "</div>"
            ],
            "text/plain": [
              "                     title2_zh                      title2_tokenized\n",
              "id                                                                  \n",
              "0     警方辟谣“鸟巢大会每人领5万” 仍有老人坚持进京     警方 辟谣 鸟巢 大会 每人 领 5 万 仍 有 老人 坚持 进京\n",
              "3    深圳GDP首超香港？深圳统计局辟谣：只是差距在缩小    深圳 GDP 首 超 香港 深圳 统计局 辟谣 只是 差距 在 缩小\n",
              "1         GDP首超香港？深圳澄清：还差一点点……              GDP 首 超 香港 深圳 澄清 还 差 一点点\n",
              "2   去年深圳GDP首超香港？深圳统计局辟谣：还差611亿  去年 深圳 GDP 首 超 香港 深圳 统计局 辟谣 还 差 611 亿\n",
              "9      吃了30年食用油才知道，一片大蒜轻松鉴别地沟油     吃 了 30 年 食用油 才 知道 一片 大蒜 轻松 鉴别 地沟油"
            ]
          },
          "metadata": {
            "tags": []
          },
          "execution_count": 9
        }
      ]
    },
    {
      "cell_type": "code",
      "metadata": {
        "colab": {
          "base_uri": "https://localhost:8080/"
        },
        "id": "Dc8zKkZLqN0N",
        "outputId": "f4aca464-f8ba-466b-ef3b-4ff9db615797"
      },
      "source": [
        "# Make a index dictionary of corpus.\n",
        "\n",
        "import keras\n",
        "\n",
        "# If the amounts of words more than 10000, the new word will be defined Unknown.\n",
        "MAX_NUM_WORDS = 10000  \n",
        "\n",
        "tokenizer = keras.preprocessing.text.Tokenizer(num_words=MAX_NUM_WORDS)\n",
        "# Combined title1_tokenized and title2_tokenized to a corpus.\n",
        "# Pandas concat: a sequence or mapping of Series or DataFrame objects.\n",
        "# train.title1_tokenized is Series.\n",
        "corpus_x1 = train.title1_tokenized\n",
        "corpus_x2 = train.title2_tokenized\n",
        "corpus = pd.concat([corpus_x1, corpus_x2])\n",
        "corpus.shape"
      ],
      "execution_count": 11,
      "outputs": [
        {
          "output_type": "execute_result",
          "data": {
            "text/plain": [
              "(641104,)"
            ]
          },
          "metadata": {
            "tags": []
          },
          "execution_count": 11
        }
      ]
    },
    {
      "cell_type": "code",
      "metadata": {
        "colab": {
          "base_uri": "https://localhost:8080/",
          "height": 228
        },
        "id": "6J5PH7hurDz5",
        "outputId": "3ae04ffa-4110-41cb-9ff1-57d35b470002"
      },
      "source": [
        "pd.DataFrame(corpus.iloc[:5],columns=['title'])"
      ],
      "execution_count": 12,
      "outputs": [
        {
          "output_type": "execute_result",
          "data": {
            "text/html": [
              "<div>\n",
              "<style scoped>\n",
              "    .dataframe tbody tr th:only-of-type {\n",
              "        vertical-align: middle;\n",
              "    }\n",
              "\n",
              "    .dataframe tbody tr th {\n",
              "        vertical-align: top;\n",
              "    }\n",
              "\n",
              "    .dataframe thead th {\n",
              "        text-align: right;\n",
              "    }\n",
              "</style>\n",
              "<table border=\"1\" class=\"dataframe\">\n",
              "  <thead>\n",
              "    <tr style=\"text-align: right;\">\n",
              "      <th></th>\n",
              "      <th>title</th>\n",
              "    </tr>\n",
              "    <tr>\n",
              "      <th>id</th>\n",
              "      <th></th>\n",
              "    </tr>\n",
              "  </thead>\n",
              "  <tbody>\n",
              "    <tr>\n",
              "      <th>0</th>\n",
              "      <td>2017 养老保险 又 新增 两项 农村 老人 人人 可 申领 你 领到 了 吗</td>\n",
              "    </tr>\n",
              "    <tr>\n",
              "      <th>3</th>\n",
              "      <td>你 不 来 深圳 早晚 你 儿子 也 要 来 不出 10 年 深圳 人均 GDP 将 超 香港</td>\n",
              "    </tr>\n",
              "    <tr>\n",
              "      <th>1</th>\n",
              "      <td>你 不 来 深圳 早晚 你 儿子 也 要 来 不出 10 年 深圳 人均 GDP 将 超 香港</td>\n",
              "    </tr>\n",
              "    <tr>\n",
              "      <th>2</th>\n",
              "      <td>你 不 来 深圳 早晚 你 儿子 也 要 来 不出 10 年 深圳 人均 GDP 将 超 香港</td>\n",
              "    </tr>\n",
              "    <tr>\n",
              "      <th>9</th>\n",
              "      <td>用 大蒜 鉴别 地沟油 的 方法 怎么 鉴别 地沟油</td>\n",
              "    </tr>\n",
              "  </tbody>\n",
              "</table>\n",
              "</div>"
            ],
            "text/plain": [
              "                                              title\n",
              "id                                                 \n",
              "0          2017 养老保险 又 新增 两项 农村 老人 人人 可 申领 你 领到 了 吗\n",
              "3   你 不 来 深圳 早晚 你 儿子 也 要 来 不出 10 年 深圳 人均 GDP 将 超 香港\n",
              "1   你 不 来 深圳 早晚 你 儿子 也 要 来 不出 10 年 深圳 人均 GDP 将 超 香港\n",
              "2   你 不 来 深圳 早晚 你 儿子 也 要 来 不出 10 年 深圳 人均 GDP 将 超 香港\n",
              "9                        用 大蒜 鉴别 地沟油 的 方法 怎么 鉴别 地沟油"
            ]
          },
          "metadata": {
            "tags": []
          },
          "execution_count": 12
        }
      ]
    },
    {
      "cell_type": "code",
      "metadata": {
        "id": "389DTVvNrPEu"
      },
      "source": [
        "# Call tokenizer to fit corpus and look up all words.\n",
        "tokenizer.fit_on_texts(corpus)"
      ],
      "execution_count": 13,
      "outputs": []
    },
    {
      "cell_type": "code",
      "metadata": {
        "colab": {
          "base_uri": "https://localhost:8080/"
        },
        "id": "GZ4WDcMfrVnx",
        "outputId": "dc22fa95-1956-4f64-b089-6b57860a8160"
      },
      "source": [
        "#  Use the dictionary we did before to transform\n",
        "#  texts of news title A and news title B from str to indexs, repectively.\n",
        "x1_train = tokenizer.texts_to_sequences(corpus_x1)\n",
        "x2_train = tokenizer.texts_to_sequences(corpus_x2)\n",
        "\n",
        "# Demo.\n",
        "print(len(x1_train))\n",
        "print(x1_train[:1])\n",
        "\n",
        "for seq in x1_train[:1]:\n",
        "    print([tokenizer.index_word[idx] for idx in seq])"
      ],
      "execution_count": 14,
      "outputs": [
        {
          "output_type": "stream",
          "text": [
            "320552\n",
            "[[217, 1268, 32, 1178, 5967, 25, 489, 2877, 116, 5559, 4, 1850, 2, 13]]\n",
            "['2017', '养老保险', '又', '新增', '两项', '农村', '老人', '人人', '可', '申领', '你', '领到', '了', '吗']\n"
          ],
          "name": "stdout"
        }
      ]
    },
    {
      "cell_type": "code",
      "metadata": {
        "id": "gMrrxGjAsdt1"
      },
      "source": [
        "# Because there are different length of sentenses, we need to zero-padding with fixed sequence length.\n",
        "\n",
        "MAX_SEQUENCE_LENGTH = 20\n",
        "x1_train = keras.preprocessing.sequence.pad_sequences(x1_train, maxlen=MAX_SEQUENCE_LENGTH)\n",
        "\n",
        "x2_train = keras.preprocessing.sequence.pad_sequences(x2_train, maxlen=MAX_SEQUENCE_LENGTH)"
      ],
      "execution_count": 15,
      "outputs": []
    },
    {
      "cell_type": "code",
      "metadata": {
        "colab": {
          "base_uri": "https://localhost:8080/"
        },
        "id": "aKpYUDR3tcas",
        "outputId": "28a2b89b-70a0-4b22-b98c-ac887e28f7a9"
      },
      "source": [
        "import numpy as np \n",
        "\n",
        "# Labels' one-hot encoding.\n",
        "train.label[:5] # to see original data.\n",
        "\n",
        "\n",
        "# Define the index of categories.\n",
        "label_to_index = {\n",
        "    'unrelated': 0, \n",
        "    'agreed': 1, \n",
        "    'disagreed': 2\n",
        "}\n",
        "\n",
        "# Categories are inplaced by int.\n",
        "y_train = train.label.apply(lambda x: label_to_index[x])\n",
        "y_train = np.asarray(y_train).astype('float32')\n",
        "y_train[:5]\n",
        "\n",
        "# One-hot eccoding each y label to represent the categories.\n",
        "# [1, 0, 0] = unrelated\n",
        "# [0, 1, 0] = agreed\n",
        "# [0, 0, 1] = disagreed\n",
        "y_train = keras.utils.to_categorical(y_train)\n",
        "y_train[:5]\n"
      ],
      "execution_count": 16,
      "outputs": [
        {
          "output_type": "execute_result",
          "data": {
            "text/plain": [
              "array([[1., 0., 0.],\n",
              "       [1., 0., 0.],\n",
              "       [1., 0., 0.],\n",
              "       [1., 0., 0.],\n",
              "       [0., 1., 0.]], dtype=float32)"
            ]
          },
          "metadata": {
            "tags": []
          },
          "execution_count": 16
        }
      ]
    },
    {
      "cell_type": "code",
      "metadata": {
        "colab": {
          "base_uri": "https://localhost:8080/"
        },
        "id": "BgAluUP3ufsC",
        "outputId": "3903d9c2-c4c3-4bee-ed4e-8861d1db7a7e"
      },
      "source": [
        "# Split train set to 90% train set and 10% valid set.\n",
        "from sklearn.model_selection import train_test_split\n",
        "\n",
        "VALIDATION_RATIO = 0.1\n",
        "RANDOM_STATE = 9527\n",
        "\n",
        "x1_train, x1_val, x2_train, x2_val, y_train, y_val = train_test_split(\n",
        "    x1_train, x2_train, y_train, \n",
        "    test_size=VALIDATION_RATIO, random_state=RANDOM_STATE)\n",
        "\n",
        "print(\"Training Set\")\n",
        "print(\"-\" * 10)\n",
        "print(f\"x1_train: {x1_train.shape}\")\n",
        "print(f\"x2_train: {x2_train.shape}\")\n",
        "print(f\"y_train : {y_train.shape}\")\n",
        "\n",
        "print(\"-\" * 10)\n",
        "print(f\"x1_val:   {x1_val.shape}\")\n",
        "print(f\"x2_val:   {x2_val.shape}\")\n",
        "print(f\"y_val :   {y_val.shape}\")\n",
        "print(\"-\" * 10)\n",
        "print(\"Test Set\")\n"
      ],
      "execution_count": 17,
      "outputs": [
        {
          "output_type": "stream",
          "text": [
            "Training Set\n",
            "----------\n",
            "x1_train: (288496, 20)\n",
            "x2_train: (288496, 20)\n",
            "y_train : (288496, 3)\n",
            "----------\n",
            "x1_val:   (32056, 20)\n",
            "x2_val:   (32056, 20)\n",
            "y_val :   (32056, 3)\n",
            "----------\n",
            "Test Set\n"
          ],
          "name": "stdout"
        }
      ]
    },
    {
      "cell_type": "code",
      "metadata": {
        "colab": {
          "base_uri": "https://localhost:8080/"
        },
        "id": "EAOgpGTyvSg-",
        "outputId": "2a334e7f-0c54-4379-d419-2790ef5fe11d"
      },
      "source": [
        "# Demo x1_train(in int).\n",
        "for i, seq in enumerate(x1_train[:5]):\n",
        "    print(f\"News title {i + 1}: \")\n",
        "    print(seq)\n",
        "    print()"
      ],
      "execution_count": 18,
      "outputs": [
        {
          "output_type": "stream",
          "text": [
            "News title 1: \n",
            "[   0    0    0    0    0 4178 2972    9   80   87  717   18  474    4\n",
            "  968    4  823   14 1436  721]\n",
            "\n",
            "News title 2: \n",
            "[   0    0    0    0    0    0    0    0    0  411  308  809 3142   17\n",
            "   90  434  191 3713    1    2]\n",
            "\n",
            "News title 3: \n",
            "[   0    0    0    0    0    0    0    0    0    0    0 5212    5 8867\n",
            "  793 1063 3626  642  337 1172]\n",
            "\n",
            "News title 4: \n",
            "[   0    0    0    0    0    0    0    0    0    0    0    0    0    0\n",
            "    0    0 2832  244  493  393]\n",
            "\n",
            "News title 5: \n",
            "[   0    0    0    0    0    0    0    0  290  143 2523 2380   46 3120\n",
            "   70  243  178 2238 3945 1082]\n",
            "\n"
          ],
          "name": "stdout"
        }
      ]
    },
    {
      "cell_type": "code",
      "metadata": {
        "colab": {
          "base_uri": "https://localhost:8080/"
        },
        "id": "c0mOYrsOvYii",
        "outputId": "1a6dc540-0782-4ec7-b152-3e47920e7326"
      },
      "source": [
        "# Demo x1_train(in words).\n",
        "for i, seq in enumerate(x1_train[:5]):\n",
        "    print(f\"News title {i + 1}: \")\n",
        "    print([tokenizer.index_word.get(idx, '') for idx in seq])\n",
        "    print()"
      ],
      "execution_count": 19,
      "outputs": [
        {
          "output_type": "stream",
          "text": [
            "News title 1: \n",
            "['', '', '', '', '', '营养师', '补充', '这', '4', '种', '营养', '能', '帮', '你', '降血压', '你', '一样', '都', '不吃', '么']\n",
            "\n",
            "News title 2: \n",
            "['', '', '', '', '', '', '', '', '', '刘涛', '现场', '痛哭', '发飙', '要', '离婚', '直接', '把', '旁边', '的', '了']\n",
            "\n",
            "News title 3: \n",
            "['', '', '', '', '', '', '', '', '', '', '', 'nba', '被', '球星', '诞生', '火箭', '骑士', '同', '抢', '交易']\n",
            "\n",
            "News title 4: \n",
            "['', '', '', '', '', '', '', '', '', '', '', '', '', '', '', '', '海口', '飞机', '撒药治', '白蛾']\n",
            "\n",
            "News title 5: \n",
            "['', '', '', '', '', '', '', '', '网', '曝', '杜', '海涛', '与', '沈梦辰', '已', '分手', '疑似', '女方', '劈', '腿']\n",
            "\n"
          ],
          "name": "stdout"
        }
      ]
    },
    {
      "cell_type": "code",
      "metadata": {
        "colab": {
          "base_uri": "https://localhost:8080/"
        },
        "id": "2-gXujpcv4R0",
        "outputId": "f6ec7631-1f0f-44d2-812d-345e009cf1e0"
      },
      "source": [
        "# Build Siamese LSTM.\n",
        "from keras import Input\n",
        "from keras.layers import Embedding, LSTM, concatenate, Dense\n",
        "from keras.models import Model\n",
        "from keras import optimizers\n",
        "from keras.callbacks import EarlyStopping\n",
        "\n",
        "\n",
        "NUM_CLASSES = 3               # Num of classes(unrelated, agreed, disagreed).\n",
        "MAX_NUM_WORDS = 10000         # Words in corpus.\n",
        "MAX_SEQUENCE_LENGTH = 20      # Max words in a sequence.\n",
        "NUM_EMBEDDING_DIM = 256       # Dimension of word vector.\n",
        "NUM_LSTM_UNITS = 128          # Dimension of LSTM layer output.\n",
        "\n",
        "\n",
        "# Define 2 news title A & B as model input layer.\n",
        "# Both are int sequence with length 20.\n",
        "top_input = Input(shape=(MAX_SEQUENCE_LENGTH, ), dtype='int32')\n",
        "bm_input = Input(shape=(MAX_SEQUENCE_LENGTH, ), dtype='int32')\n",
        "\n",
        "# Word embedding layer.\n",
        "embedding_layer = Embedding(MAX_NUM_WORDS, NUM_EMBEDDING_DIM)\n",
        "top_embedded = embedding_layer(top_input)\n",
        "bm_embedded = embedding_layer(bm_input)\n",
        "\n",
        "# LSTM layer.\n",
        "shared_lstm = LSTM(NUM_LSTM_UNITS)\n",
        "top_output = shared_lstm(top_embedded)\n",
        "bm_output = shared_lstm(bm_embedded)\n",
        "\n",
        "# Merge two layers into 1 layer.\n",
        "merged = concatenate([top_output, bm_output], axis=-1)\n",
        "\n",
        "# Fully connected with softmax Activation.\n",
        "# Return the probability of 3 categories.\n",
        "dense = Dense(units=NUM_CLASSES, activation='softmax')\n",
        "predictions = dense(merged)\n",
        "\n",
        "# \n",
        "model = Model(inputs=[top_input, bm_input], outputs=predictions)\n",
        "RMSprop = optimizers.RMSprop(lr=2e-5, rho=0.9, epsilon=None, decay=0.0)\n",
        "model.compile(optimizer=RMSprop, loss='categorical_crossentropy', metrics=['acc'])\n",
        "model.summary()\n"
      ],
      "execution_count": 25,
      "outputs": [
        {
          "output_type": "stream",
          "text": [
            "Model: \"model_1\"\n",
            "__________________________________________________________________________________________________\n",
            "Layer (type)                    Output Shape         Param #     Connected to                     \n",
            "==================================================================================================\n",
            "input_3 (InputLayer)            [(None, 20)]         0                                            \n",
            "__________________________________________________________________________________________________\n",
            "input_4 (InputLayer)            [(None, 20)]         0                                            \n",
            "__________________________________________________________________________________________________\n",
            "embedding_1 (Embedding)         (None, 20, 256)      2560000     input_3[0][0]                    \n",
            "                                                                 input_4[0][0]                    \n",
            "__________________________________________________________________________________________________\n",
            "lstm_1 (LSTM)                   (None, 128)          197120      embedding_1[0][0]                \n",
            "                                                                 embedding_1[1][0]                \n",
            "__________________________________________________________________________________________________\n",
            "concatenate_1 (Concatenate)     (None, 256)          0           lstm_1[0][0]                     \n",
            "                                                                 lstm_1[1][0]                     \n",
            "__________________________________________________________________________________________________\n",
            "dense_1 (Dense)                 (None, 3)            771         concatenate_1[0][0]              \n",
            "==================================================================================================\n",
            "Total params: 2,757,891\n",
            "Trainable params: 2,757,891\n",
            "Non-trainable params: 0\n",
            "__________________________________________________________________________________________________\n"
          ],
          "name": "stdout"
        }
      ]
    },
    {
      "cell_type": "code",
      "metadata": {
        "colab": {
          "base_uri": "https://localhost:8080/",
          "height": 190
        },
        "id": "aaHnAJghv_Jd",
        "outputId": "248c4b01-c390-4ae2-f734-d6558da1e2c7"
      },
      "source": [
        "# Visualize the model bulit.\n",
        "from keras.utils import plot_model\n",
        "plot_model(model, \n",
        "    to_file='model.png', \n",
        "    show_shapes=True, \n",
        "    show_layer_names=False, \n",
        "    rankdir='LR')"
      ],
      "execution_count": 26,
      "outputs": [
        {
          "output_type": "execute_result",
          "data": {
            "image/png": "[encoded data removed]",
            "text/plain": [
              "<IPython.core.display.Image object>"
            ]
          },
          "metadata": {
            "tags": []
          },
          "execution_count": 26
        }
      ]
    },
    {
      "cell_type": "code",
      "metadata": {
        "colab": {
          "base_uri": "https://localhost:8080/"
        },
        "id": "sct-FV8ywRS9",
        "outputId": "be3f4b07-07ea-418a-ab61-64ee035c3b61"
      },
      "source": [
        "\n",
        "BATCH_SIZE = 256\n",
        "NUM_EPOCHS = 1000\n",
        "\n",
        "# Training.\n",
        "history = model.fit(\n",
        "    x=[x1_train, x2_train], \n",
        "    y=y_train, \n",
        "    batch_size=BATCH_SIZE, \n",
        "    epochs=NUM_EPOCHS,\n",
        "    validation_data=([x1_val, x2_val], y_val), \n",
        "    shuffle=True,\n",
        "    callbacks=[EarlyStopping(monitor='val_acc', patience=3, verbose=1, mode=\"auto\", restore_best_weights=True)])\n"
      ],
      "execution_count": 27,
      "outputs": [
        {
          "output_type": "stream",
          "text": [
            "Epoch 1/1000\n",
            "1127/1127 [==============================] - 338s 297ms/step - loss: 0.8731 - acc: 0.6657 - val_loss: 0.6704 - val_acc: 0.6849\n",
            "Epoch 2/1000\n",
            "1127/1127 [==============================] - 335s 298ms/step - loss: 0.6361 - acc: 0.7057 - val_loss: 0.5500 - val_acc: 0.7572\n",
            "Epoch 3/1000\n",
            "1127/1127 [==============================] - 334s 297ms/step - loss: 0.5344 - acc: 0.7655 - val_loss: 0.4997 - val_acc: 0.7776\n",
            "Epoch 4/1000\n",
            "1127/1127 [==============================] - 334s 296ms/step - loss: 0.4867 - acc: 0.7862 - val_loss: 0.4751 - val_acc: 0.7852\n",
            "Epoch 5/1000\n",
            "1127/1127 [==============================] - 339s 300ms/step - loss: 0.4649 - acc: 0.7935 - val_loss: 0.4620 - val_acc: 0.7931\n",
            "Epoch 6/1000\n",
            "1127/1127 [==============================] - 336s 298ms/step - loss: 0.4477 - acc: 0.7998 - val_loss: 0.4485 - val_acc: 0.7974\n",
            "Epoch 7/1000\n",
            "1127/1127 [==============================] - 334s 297ms/step - loss: 0.4343 - acc: 0.8048 - val_loss: 0.4420 - val_acc: 0.7970\n",
            "Epoch 8/1000\n",
            "1127/1127 [==============================] - 340s 301ms/step - loss: 0.4281 - acc: 0.8071 - val_loss: 0.4364 - val_acc: 0.8021\n",
            "Epoch 9/1000\n",
            "1127/1127 [==============================] - 337s 299ms/step - loss: 0.4215 - acc: 0.8102 - val_loss: 0.4320 - val_acc: 0.8030\n",
            "Epoch 10/1000\n",
            "1127/1127 [==============================] - 343s 305ms/step - loss: 0.4141 - acc: 0.8134 - val_loss: 0.4288 - val_acc: 0.8048\n",
            "Epoch 11/1000\n",
            "1127/1127 [==============================] - 343s 304ms/step - loss: 0.4087 - acc: 0.8163 - val_loss: 0.4251 - val_acc: 0.8065\n",
            "Epoch 12/1000\n",
            "1127/1127 [==============================] - 335s 297ms/step - loss: 0.4024 - acc: 0.8194 - val_loss: 0.4226 - val_acc: 0.8067\n",
            "Epoch 13/1000\n",
            "1127/1127 [==============================] - 336s 298ms/step - loss: 0.3994 - acc: 0.8205 - val_loss: 0.4205 - val_acc: 0.8090\n",
            "Epoch 14/1000\n",
            "1127/1127 [==============================] - 333s 296ms/step - loss: 0.3977 - acc: 0.8212 - val_loss: 0.4195 - val_acc: 0.8089\n",
            "Epoch 15/1000\n",
            "1127/1127 [==============================] - 338s 300ms/step - loss: 0.3937 - acc: 0.8246 - val_loss: 0.4162 - val_acc: 0.8111\n",
            "Epoch 16/1000\n",
            "1127/1127 [==============================] - 342s 303ms/step - loss: 0.3899 - acc: 0.8256 - val_loss: 0.4148 - val_acc: 0.8125\n",
            "Epoch 17/1000\n",
            "1127/1127 [==============================] - 350s 311ms/step - loss: 0.3874 - acc: 0.8277 - val_loss: 0.4142 - val_acc: 0.8133\n",
            "Epoch 18/1000\n",
            "1127/1127 [==============================] - 341s 303ms/step - loss: 0.3874 - acc: 0.8275 - val_loss: 0.4119 - val_acc: 0.8141\n",
            "Epoch 19/1000\n",
            "1127/1127 [==============================] - 332s 295ms/step - loss: 0.3840 - acc: 0.8290 - val_loss: 0.4095 - val_acc: 0.8145\n",
            "Epoch 20/1000\n",
            "1127/1127 [==============================] - 339s 300ms/step - loss: 0.3792 - acc: 0.8321 - val_loss: 0.4091 - val_acc: 0.8136\n",
            "Epoch 21/1000\n",
            "1127/1127 [==============================] - 333s 295ms/step - loss: 0.3750 - acc: 0.8340 - val_loss: 0.4075 - val_acc: 0.8169\n",
            "Epoch 22/1000\n",
            "1127/1127 [==============================] - 333s 296ms/step - loss: 0.3747 - acc: 0.8338 - val_loss: 0.4070 - val_acc: 0.8182\n",
            "Epoch 23/1000\n",
            "1127/1127 [==============================] - 336s 298ms/step - loss: 0.3718 - acc: 0.8362 - val_loss: 0.4044 - val_acc: 0.8160\n",
            "Epoch 24/1000\n",
            "1127/1127 [==============================] - 348s 309ms/step - loss: 0.3692 - acc: 0.8372 - val_loss: 0.4025 - val_acc: 0.8189\n",
            "Epoch 25/1000\n",
            "1127/1127 [==============================] - 341s 302ms/step - loss: 0.3646 - acc: 0.8390 - val_loss: 0.4017 - val_acc: 0.8183\n",
            "Epoch 26/1000\n",
            "1127/1127 [==============================] - 344s 305ms/step - loss: 0.3627 - acc: 0.8403 - val_loss: 0.3999 - val_acc: 0.8201\n",
            "Epoch 27/1000\n",
            "1127/1127 [==============================] - 344s 305ms/step - loss: 0.3603 - acc: 0.8422 - val_loss: 0.3991 - val_acc: 0.8211\n",
            "Epoch 28/1000\n",
            "1127/1127 [==============================] - 341s 303ms/step - loss: 0.3590 - acc: 0.8425 - val_loss: 0.3987 - val_acc: 0.8211\n",
            "Epoch 29/1000\n",
            "1127/1127 [==============================] - 341s 302ms/step - loss: 0.3573 - acc: 0.8440 - val_loss: 0.3978 - val_acc: 0.8222\n",
            "Epoch 30/1000\n",
            "1127/1127 [==============================] - 344s 305ms/step - loss: 0.3541 - acc: 0.8449 - val_loss: 0.3978 - val_acc: 0.8220\n",
            "Epoch 31/1000\n",
            "1127/1127 [==============================] - 337s 299ms/step - loss: 0.3521 - acc: 0.8462 - val_loss: 0.3959 - val_acc: 0.8229\n",
            "Epoch 32/1000\n",
            "1127/1127 [==============================] - 334s 296ms/step - loss: 0.3507 - acc: 0.8469 - val_loss: 0.3988 - val_acc: 0.8200\n",
            "Epoch 33/1000\n",
            "1127/1127 [==============================] - 333s 295ms/step - loss: 0.3493 - acc: 0.8479 - val_loss: 0.3972 - val_acc: 0.8214\n",
            "Epoch 34/1000\n",
            "1127/1127 [==============================] - 332s 295ms/step - loss: 0.3482 - acc: 0.8479 - val_loss: 0.3939 - val_acc: 0.8248\n",
            "Epoch 35/1000\n",
            "1127/1127 [==============================] - 343s 305ms/step - loss: 0.3479 - acc: 0.8491 - val_loss: 0.3944 - val_acc: 0.8245\n",
            "Epoch 36/1000\n",
            "1127/1127 [==============================] - 348s 309ms/step - loss: 0.3433 - acc: 0.8514 - val_loss: 0.3934 - val_acc: 0.8258\n",
            "Epoch 37/1000\n",
            "1127/1127 [==============================] - 337s 299ms/step - loss: 0.3416 - acc: 0.8523 - val_loss: 0.3933 - val_acc: 0.8277\n",
            "Epoch 38/1000\n",
            "1127/1127 [==============================] - 333s 295ms/step - loss: 0.3414 - acc: 0.8522 - val_loss: 0.3917 - val_acc: 0.8279\n",
            "Epoch 39/1000\n",
            "1127/1127 [==============================] - 340s 301ms/step - loss: 0.3404 - acc: 0.8526 - val_loss: 0.3916 - val_acc: 0.8262\n",
            "Epoch 40/1000\n",
            "1127/1127 [==============================] - 344s 306ms/step - loss: 0.3375 - acc: 0.8547 - val_loss: 0.3920 - val_acc: 0.8277\n",
            "Epoch 41/1000\n",
            "1127/1127 [==============================] - 337s 299ms/step - loss: 0.3360 - acc: 0.8550 - val_loss: 0.3908 - val_acc: 0.8279\n",
            "Epoch 42/1000\n",
            "1127/1127 [==============================] - 333s 296ms/step - loss: 0.3338 - acc: 0.8567 - val_loss: 0.3915 - val_acc: 0.8283\n",
            "Epoch 43/1000\n",
            "1127/1127 [==============================] - 345s 306ms/step - loss: 0.3326 - acc: 0.8568 - val_loss: 0.3887 - val_acc: 0.8301\n",
            "Epoch 44/1000\n",
            "1127/1127 [==============================] - 341s 303ms/step - loss: 0.3334 - acc: 0.8570 - val_loss: 0.3885 - val_acc: 0.8297\n",
            "Epoch 45/1000\n",
            "1127/1127 [==============================] - 334s 296ms/step - loss: 0.3313 - acc: 0.8586 - val_loss: 0.3932 - val_acc: 0.8264\n",
            "Epoch 46/1000\n",
            "1127/1127 [==============================] - 337s 299ms/step - loss: 0.3269 - acc: 0.8599 - val_loss: 0.3883 - val_acc: 0.8301\n",
            "Restoring model weights from the end of the best epoch.\n",
            "Epoch 00046: early stopping\n"
          ],
          "name": "stdout"
        }
      ]
    },
    {
      "cell_type": "code",
      "metadata": {
        "id": "wkRZesUfzNbA"
      },
      "source": [
        "# Test data pre-processing.\n",
        "test = pd.read_csv(test_path, index_col=0)\n",
        "test.head(3)\n",
        "\n",
        "# Word Segmentation\n",
        "test['title1_tokenized'] = test.loc[:, 'title1_zh'].astype(str).apply(jieba_tokenizer)\n",
        "test['title2_tokenized'] = test.loc[:, 'title2_zh'].astype(str).apply(jieba_tokenizer)\n",
        "\n",
        "# Words to index.\n",
        "x1_test = tokenizer.texts_to_sequences(test.title1_tokenized)\n",
        "x2_test = tokenizer.texts_to_sequences(test.title2_tokenized)\n",
        "\n",
        "# Zero-padding.\n",
        "x1_test = keras.preprocessing.sequence.pad_sequences(x1_test, maxlen=MAX_SEQUENCE_LENGTH)\n",
        "x2_test = keras.preprocessing.sequence.pad_sequences(x2_test, maxlen=MAX_SEQUENCE_LENGTH)    \n",
        "\n",
        "# Predict by trained model.\n",
        "predictions = model.predict([x1_test, x2_test])"
      ],
      "execution_count": 28,
      "outputs": []
    },
    {
      "cell_type": "code",
      "metadata": {
        "colab": {
          "base_uri": "https://localhost:8080/"
        },
        "id": "ZxVCLvM70Fus",
        "outputId": "a1c7fdb0-77a9-4958-f01e-c7da73cb9979"
      },
      "source": [
        "# Demo prediction.\n",
        "predictions[:5]"
      ],
      "execution_count": 29,
      "outputs": [
        {
          "output_type": "execute_result",
          "data": {
            "text/plain": [
              "array([[9.4182140e-01, 2.7491458e-04, 5.7903673e-02],\n",
              "       [8.9084536e-01, 1.7768622e-03, 1.0737771e-01],\n",
              "       [7.7478069e-01, 2.2507338e-01, 1.4591284e-04],\n",
              "       [9.1811848e-01, 2.3914261e-03, 7.9490066e-02],\n",
              "       [8.6049372e-01, 2.3202451e-03, 1.3718610e-01]], dtype=float32)"
            ]
          },
          "metadata": {
            "tags": []
          },
          "execution_count": 29
        }
      ]
    },
    {
      "cell_type": "code",
      "metadata": {
        "colab": {
          "base_uri": "https://localhost:8080/",
          "height": 198
        },
        "id": "yzLXp81Qz7D5",
        "outputId": "9dd1022e-24aa-4665-aaa3-ae031bdf5840"
      },
      "source": [
        "# Reverse the index to label.\n",
        "index_to_label = {v: k for k, v in label_to_index.items()}\n",
        "\n",
        "test['Category'] = [index_to_label[idx] for idx in np.argmax(predictions, axis=1)]\n",
        "\n",
        "submission = test.loc[:, ['Category']].reset_index()\n",
        "\n",
        "# Predicted label results.\n",
        "submission.columns = ['Id', 'Category']\n",
        "submission.head()\n"
      ],
      "execution_count": 30,
      "outputs": [
        {
          "output_type": "execute_result",
          "data": {
            "text/html": [
              "<div>\n",
              "<style scoped>\n",
              "    .dataframe tbody tr th:only-of-type {\n",
              "        vertical-align: middle;\n",
              "    }\n",
              "\n",
              "    .dataframe tbody tr th {\n",
              "        vertical-align: top;\n",
              "    }\n",
              "\n",
              "    .dataframe thead th {\n",
              "        text-align: right;\n",
              "    }\n",
              "</style>\n",
              "<table border=\"1\" class=\"dataframe\">\n",
              "  <thead>\n",
              "    <tr style=\"text-align: right;\">\n",
              "      <th></th>\n",
              "      <th>Id</th>\n",
              "      <th>Category</th>\n",
              "    </tr>\n",
              "  </thead>\n",
              "  <tbody>\n",
              "    <tr>\n",
              "      <th>0</th>\n",
              "      <td>321187</td>\n",
              "      <td>unrelated</td>\n",
              "    </tr>\n",
              "    <tr>\n",
              "      <th>1</th>\n",
              "      <td>321190</td>\n",
              "      <td>unrelated</td>\n",
              "    </tr>\n",
              "    <tr>\n",
              "      <th>2</th>\n",
              "      <td>321189</td>\n",
              "      <td>unrelated</td>\n",
              "    </tr>\n",
              "    <tr>\n",
              "      <th>3</th>\n",
              "      <td>321193</td>\n",
              "      <td>unrelated</td>\n",
              "    </tr>\n",
              "    <tr>\n",
              "      <th>4</th>\n",
              "      <td>321191</td>\n",
              "      <td>unrelated</td>\n",
              "    </tr>\n",
              "  </tbody>\n",
              "</table>\n",
              "</div>"
            ],
            "text/plain": [
              "       Id   Category\n",
              "0  321187  unrelated\n",
              "1  321190  unrelated\n",
              "2  321189  unrelated\n",
              "3  321193  unrelated\n",
              "4  321191  unrelated"
            ]
          },
          "metadata": {
            "tags": []
          },
          "execution_count": 30
        }
      ]
    },
    {
      "cell_type": "code",
      "metadata": {
        "colab": {
          "base_uri": "https://localhost:8080/",
          "height": 198
        },
        "id": "Oa2SuwuVDGJk",
        "outputId": "4c24d2b5-7b3a-4f6a-f5ce-39680dece5a4"
      },
      "source": [
        "# Actual labels.\n",
        "sample_path = \"/content/gdrive/MyDrive/Colab_Notebooks/WSDM_Fake_News_Classification/sample_submission.csv\"\n",
        "sample = pd.read_csv(sample_path)\n",
        "sample.head()"
      ],
      "execution_count": 31,
      "outputs": [
        {
          "output_type": "execute_result",
          "data": {
            "text/html": [
              "<div>\n",
              "<style scoped>\n",
              "    .dataframe tbody tr th:only-of-type {\n",
              "        vertical-align: middle;\n",
              "    }\n",
              "\n",
              "    .dataframe tbody tr th {\n",
              "        vertical-align: top;\n",
              "    }\n",
              "\n",
              "    .dataframe thead th {\n",
              "        text-align: right;\n",
              "    }\n",
              "</style>\n",
              "<table border=\"1\" class=\"dataframe\">\n",
              "  <thead>\n",
              "    <tr style=\"text-align: right;\">\n",
              "      <th></th>\n",
              "      <th>Id</th>\n",
              "      <th>Category</th>\n",
              "    </tr>\n",
              "  </thead>\n",
              "  <tbody>\n",
              "    <tr>\n",
              "      <th>0</th>\n",
              "      <td>347448</td>\n",
              "      <td>unrelated</td>\n",
              "    </tr>\n",
              "    <tr>\n",
              "      <th>1</th>\n",
              "      <td>347449</td>\n",
              "      <td>unrelated</td>\n",
              "    </tr>\n",
              "    <tr>\n",
              "      <th>2</th>\n",
              "      <td>359100</td>\n",
              "      <td>unrelated</td>\n",
              "    </tr>\n",
              "    <tr>\n",
              "      <th>3</th>\n",
              "      <td>359101</td>\n",
              "      <td>unrelated</td>\n",
              "    </tr>\n",
              "    <tr>\n",
              "      <th>4</th>\n",
              "      <td>359102</td>\n",
              "      <td>unrelated</td>\n",
              "    </tr>\n",
              "  </tbody>\n",
              "</table>\n",
              "</div>"
            ],
            "text/plain": [
              "       Id   Category\n",
              "0  347448  unrelated\n",
              "1  347449  unrelated\n",
              "2  359100  unrelated\n",
              "3  359101  unrelated\n",
              "4  359102  unrelated"
            ]
          },
          "metadata": {
            "tags": []
          },
          "execution_count": 31
        }
      ]
    },
    {
      "cell_type": "code",
      "metadata": {
        "colab": {
          "base_uri": "https://localhost:8080/"
        },
        "id": "YiS7FfknEDG8",
        "outputId": "66e21839-8ec0-4a66-ea00-890010878e76"
      },
      "source": [
        "import math\n",
        "\n",
        "# Caculate accuracy.\n",
        "accuracy = 0\n",
        "for i in range(len(submission[\"Category\"].values)):\n",
        "  if submission[\"Category\"].values[i] == sample[\"Category\"].values[i]:\n",
        "    accuracy += (1/len(submission[\"Category\"].values))\n",
        "accuracy = round(accuracy, 3)\n",
        "print(f\"The accuracy of prediction is about {accuracy * 100} %. (round off to the 3rd decimal place)\")\n",
        "\n"
      ],
      "execution_count": 32,
      "outputs": [
        {
          "output_type": "stream",
          "text": [
            "The accuracy of prediction is about 74.7 %. (round off to the 3rd decimal place)\n"
          ],
          "name": "stdout"
        }
      ]
    }
  ]
}